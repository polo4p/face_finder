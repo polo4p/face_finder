{
 "cells": [
  {
   "cell_type": "code",
   "execution_count": null,
   "metadata": {
    "vscode": {
     "languageId": "plaintext"
    }
   },
   "outputs": [],
   "source": [
    "import cv2\n",
    "import dlib\n",
    "import PIL.Image\n",
    "import numpy as np\n",
    "from imutils import face_utils\n",
    "import argparse\n",
    "from pathlib import Path\n",
    "import os\n",
    "import ntpath"
   ]
  }
 ],
 "metadata": {
  "language_info": {
   "name": "python"
  }
 },
 "nbformat": 4,
 "nbformat_minor": 2
}
